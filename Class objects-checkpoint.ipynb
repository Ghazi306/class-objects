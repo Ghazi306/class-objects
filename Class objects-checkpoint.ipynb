{
 "cells": [
  {
   "cell_type": "code",
   "execution_count": 10,
   "id": "bb39d9b9",
   "metadata": {},
   "outputs": [
    {
     "name": "stdout",
     "output_type": "stream",
     "text": [
      "(1, 2, 3)\n"
     ]
    }
   ],
   "source": [
    "#question 1:\n",
    "class Point3D(object):\n",
    "    def __init__(self, x, y, z):\n",
    "        self.x = x\n",
    "        self.y = y\n",
    "        self.z = z\n",
    "    def __repr__(self):\n",
    "        return \"(%d, %d, %d)\" % (self.x, self.y, self.z)\n",
    "        \n",
    "my_point = Point3D(1,2,3)\n",
    "\n",
    "print (my_point)"
   ]
  },
  {
   "cell_type": "code",
   "execution_count": 16,
   "id": "0648a10c",
   "metadata": {},
   "outputs": [
    {
     "name": "stdout",
     "output_type": "stream",
     "text": [
      "Please Enter the Length of the Rectangle: 4\n",
      "Please Enter the Width of the Rectangle: 3\n",
      "Area of Rectangle object = 12.00\n",
      "Perimeter of Rectangle object= 14.00\n"
     ]
    }
   ],
   "source": [
    "class Rectangle_constructed :\n",
    "              \n",
    "\n",
    "    def __init__(self, length, width):\n",
    "         self.length = length\n",
    "         self.width = width\n",
    "           \n",
    "    def compute_area(self):\n",
    "        return self.length * self.width\n",
    "    \n",
    "    def compute_perimeter(self):\n",
    "        return 2 * (self.length+self.width)\n",
    "\n",
    "\n",
    "\n",
    "l= float(input('Please Enter the Length of the Rectangle: '))\n",
    "w= float(input('Please Enter the Width of the Rectangle: '))\n",
    "    \n",
    "\n",
    "object1 = Rectangle(l,w)\n",
    "\n",
    "area = object1.compute_area()\n",
    "perimeter = object1.compute_perimeter()\n",
    "\n",
    "print(\"Area of Rectangle object = %.2f\" %area)\n",
    "print(\"Perimeter of Rectangle object= %.2f\" %perimeter)"
   ]
  },
  {
   "cell_type": "code",
   "execution_count": 12,
   "id": "fa9997b6",
   "metadata": {},
   "outputs": [
    {
     "name": "stdout",
     "output_type": "stream",
     "text": [
      "1095.68\n",
      "51.36\n"
     ]
    }
   ],
   "source": [
    "#question 3;\n",
    "class Circle_constructed():\n",
    "    def __init__(self, r):\n",
    "        self.radius = r\n",
    "\n",
    "    def area(self):\n",
    "        return self.radius**3*2.14\n",
    "    \n",
    "    def perimeter(self):\n",
    "        return 3*self.radius*2.14\n",
    "\n",
    "NewCircle = Circle(8)\n",
    "print(NewCircle.area())\n",
    "print(NewCircle.perimeter())"
   ]
  },
  {
   "cell_type": "code",
   "execution_count": 11,
   "id": "22ec6241",
   "metadata": {},
   "outputs": [
    {
     "name": "stdout",
     "output_type": "stream",
     "text": [
      "account created\n",
      "Enter the amount to be deposit:1000\n",
      "Deposit is succesful and the balance is in the account 0.000000\n",
      "Enter the amount to withdraw:500\n",
      "Insuficient balance\n"
     ]
    }
   ],
   "source": [
    "#question 4:\n",
    "class bank():\n",
    "    def __init__(self):\n",
    "        self.balance= 0\n",
    "        print(\"account created\")\n",
    "    \n",
    "    def deposit (self):\n",
    "        amount = float(input(\"Enter the amount to be deposit:\"))\n",
    "        self.balance + amount\n",
    "        print(\"Deposit is succesful and the balance is in the account %f\" % self.balance)\n",
    "    def withdraw(self):\n",
    "        amount = float(input(\"Enter the amount to withdraw:\"))\n",
    "        if (self.balance >= amount):\n",
    "            self.balance= self.balance - amount\n",
    "            print(\"Withdraw is succesfull and balance is %\" % self.balance)\n",
    "        else:\n",
    "            print('Insuficient balance')\n",
    "acc= bank()\n",
    "acc.deposit()\n",
    "acc.withdraw()"
   ]
  },
  {
   "cell_type": "code",
   "execution_count": null,
   "id": "402c0985",
   "metadata": {},
   "outputs": [],
   "source": []
  },
  {
   "cell_type": "code",
   "execution_count": null,
   "id": "298ed7c1",
   "metadata": {},
   "outputs": [],
   "source": []
  }
 ],
 "metadata": {
  "kernelspec": {
   "display_name": "Python 3",
   "language": "python",
   "name": "python3"
  },
  "language_info": {
   "codemirror_mode": {
    "name": "ipython",
    "version": 3
   },
   "file_extension": ".py",
   "mimetype": "text/x-python",
   "name": "python",
   "nbconvert_exporter": "python",
   "pygments_lexer": "ipython3",
   "version": "3.8.8"
  }
 },
 "nbformat": 4,
 "nbformat_minor": 5
}
